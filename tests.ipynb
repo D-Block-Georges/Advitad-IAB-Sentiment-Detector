{
 "cells": [
  {
   "cell_type": "code",
   "execution_count": 1,
   "metadata": {
    "colab": {
     "base_uri": "https://localhost:8080/",
     "height": 1000
    },
    "id": "pFdAK1M_uV-C",
    "outputId": "9b2be213-f90a-4f76-ade9-f29b70c77547"
   },
   "outputs": [
    {
     "name": "stdout",
     "output_type": "stream",
     "text": [
      "Requirement already satisfied: transformers>=4.48.0 in /usr/local/lib/python3.11/dist-packages (4.54.1)\n",
      "Requirement already satisfied: filelock in /usr/local/lib/python3.11/dist-packages (from transformers>=4.48.0) (3.18.0)\n",
      "Requirement already satisfied: huggingface-hub<1.0,>=0.34.0 in /usr/local/lib/python3.11/dist-packages (from transformers>=4.48.0) (0.34.1)\n",
      "Requirement already satisfied: numpy>=1.17 in /usr/local/lib/python3.11/dist-packages (from transformers>=4.48.0) (2.0.2)\n",
      "Requirement already satisfied: packaging>=20.0 in /usr/local/lib/python3.11/dist-packages (from transformers>=4.48.0) (25.0)\n",
      "Requirement already satisfied: pyyaml>=5.1 in /usr/local/lib/python3.11/dist-packages (from transformers>=4.48.0) (6.0.2)\n",
      "Requirement already satisfied: regex!=2019.12.17 in /usr/local/lib/python3.11/dist-packages (from transformers>=4.48.0) (2024.11.6)\n",
      "Requirement already satisfied: requests in /usr/local/lib/python3.11/dist-packages (from transformers>=4.48.0) (2.32.3)\n",
      "Requirement already satisfied: tokenizers<0.22,>=0.21 in /usr/local/lib/python3.11/dist-packages (from transformers>=4.48.0) (0.21.2)\n",
      "Requirement already satisfied: safetensors>=0.4.3 in /usr/local/lib/python3.11/dist-packages (from transformers>=4.48.0) (0.5.3)\n",
      "Requirement already satisfied: tqdm>=4.27 in /usr/local/lib/python3.11/dist-packages (from transformers>=4.48.0) (4.67.1)\n",
      "Requirement already satisfied: fsspec>=2023.5.0 in /usr/local/lib/python3.11/dist-packages (from huggingface-hub<1.0,>=0.34.0->transformers>=4.48.0) (2025.3.0)\n",
      "Requirement already satisfied: typing-extensions>=3.7.4.3 in /usr/local/lib/python3.11/dist-packages (from huggingface-hub<1.0,>=0.34.0->transformers>=4.48.0) (4.14.1)\n",
      "Requirement already satisfied: hf-xet<2.0.0,>=1.1.3 in /usr/local/lib/python3.11/dist-packages (from huggingface-hub<1.0,>=0.34.0->transformers>=4.48.0) (1.1.5)\n",
      "Requirement already satisfied: charset-normalizer<4,>=2 in /usr/local/lib/python3.11/dist-packages (from requests->transformers>=4.48.0) (3.4.2)\n",
      "Requirement already satisfied: idna<4,>=2.5 in /usr/local/lib/python3.11/dist-packages (from requests->transformers>=4.48.0) (3.10)\n",
      "Requirement already satisfied: urllib3<3,>=1.21.1 in /usr/local/lib/python3.11/dist-packages (from requests->transformers>=4.48.0) (2.5.0)\n",
      "Requirement already satisfied: certifi>=2017.4.17 in /usr/local/lib/python3.11/dist-packages (from requests->transformers>=4.48.0) (2025.7.14)\n",
      "Collecting gliclass\n",
      "  Using cached gliclass-0.1.11-py3-none-any.whl.metadata (4.9 kB)\n",
      "Collecting numpy<2.0.0,>=1.26.4 (from gliclass)\n",
      "  Using cached numpy-1.26.4-cp311-cp311-manylinux_2_17_x86_64.manylinux2014_x86_64.whl.metadata (61 kB)\n",
      "Requirement already satisfied: scikit-learn<2.0.0,>=1.0.0 in /usr/local/lib/python3.11/dist-packages (from gliclass) (1.6.1)\n",
      "Requirement already satisfied: torch<3.0.0,>=2.0.0 in /usr/local/lib/python3.11/dist-packages (from gliclass) (2.6.0+cu124)\n",
      "Collecting transformers<=4.48.2,>=4.37.2 (from gliclass)\n",
      "  Downloading transformers-4.48.2-py3-none-any.whl.metadata (44 kB)\n",
      "\u001b[2K     \u001b[90m━━━━━━━━━━━━━━━━━━━━━━━━━━━━━━━━━━━━━━━━\u001b[0m \u001b[32m44.4/44.4 kB\u001b[0m \u001b[31m1.8 MB/s\u001b[0m eta \u001b[36m0:00:00\u001b[0m\n",
      "\u001b[?25hRequirement already satisfied: scipy>=1.6.0 in /usr/local/lib/python3.11/dist-packages (from scikit-learn<2.0.0,>=1.0.0->gliclass) (1.16.0)\n",
      "Requirement already satisfied: joblib>=1.2.0 in /usr/local/lib/python3.11/dist-packages (from scikit-learn<2.0.0,>=1.0.0->gliclass) (1.5.1)\n",
      "Requirement already satisfied: threadpoolctl>=3.1.0 in /usr/local/lib/python3.11/dist-packages (from scikit-learn<2.0.0,>=1.0.0->gliclass) (3.6.0)\n",
      "Requirement already satisfied: filelock in /usr/local/lib/python3.11/dist-packages (from torch<3.0.0,>=2.0.0->gliclass) (3.18.0)\n",
      "Requirement already satisfied: typing-extensions>=4.10.0 in /usr/local/lib/python3.11/dist-packages (from torch<3.0.0,>=2.0.0->gliclass) (4.14.1)\n",
      "Requirement already satisfied: networkx in /usr/local/lib/python3.11/dist-packages (from torch<3.0.0,>=2.0.0->gliclass) (3.5)\n",
      "Requirement already satisfied: jinja2 in /usr/local/lib/python3.11/dist-packages (from torch<3.0.0,>=2.0.0->gliclass) (3.1.6)\n",
      "Requirement already satisfied: fsspec in /usr/local/lib/python3.11/dist-packages (from torch<3.0.0,>=2.0.0->gliclass) (2025.3.0)\n",
      "Requirement already satisfied: nvidia-cuda-nvrtc-cu12==12.4.127 in /usr/local/lib/python3.11/dist-packages (from torch<3.0.0,>=2.0.0->gliclass) (12.4.127)\n",
      "Requirement already satisfied: nvidia-cuda-runtime-cu12==12.4.127 in /usr/local/lib/python3.11/dist-packages (from torch<3.0.0,>=2.0.0->gliclass) (12.4.127)\n",
      "Requirement already satisfied: nvidia-cuda-cupti-cu12==12.4.127 in /usr/local/lib/python3.11/dist-packages (from torch<3.0.0,>=2.0.0->gliclass) (12.4.127)\n",
      "Requirement already satisfied: nvidia-cudnn-cu12==9.1.0.70 in /usr/local/lib/python3.11/dist-packages (from torch<3.0.0,>=2.0.0->gliclass) (9.1.0.70)\n",
      "Requirement already satisfied: nvidia-cublas-cu12==12.4.5.8 in /usr/local/lib/python3.11/dist-packages (from torch<3.0.0,>=2.0.0->gliclass) (12.4.5.8)\n",
      "Requirement already satisfied: nvidia-cufft-cu12==11.2.1.3 in /usr/local/lib/python3.11/dist-packages (from torch<3.0.0,>=2.0.0->gliclass) (11.2.1.3)\n",
      "Requirement already satisfied: nvidia-curand-cu12==10.3.5.147 in /usr/local/lib/python3.11/dist-packages (from torch<3.0.0,>=2.0.0->gliclass) (10.3.5.147)\n",
      "Requirement already satisfied: nvidia-cusolver-cu12==11.6.1.9 in /usr/local/lib/python3.11/dist-packages (from torch<3.0.0,>=2.0.0->gliclass) (11.6.1.9)\n",
      "Requirement already satisfied: nvidia-cusparse-cu12==12.3.1.170 in /usr/local/lib/python3.11/dist-packages (from torch<3.0.0,>=2.0.0->gliclass) (12.3.1.170)\n",
      "Requirement already satisfied: nvidia-cusparselt-cu12==0.6.2 in /usr/local/lib/python3.11/dist-packages (from torch<3.0.0,>=2.0.0->gliclass) (0.6.2)\n",
      "Requirement already satisfied: nvidia-nccl-cu12==2.21.5 in /usr/local/lib/python3.11/dist-packages (from torch<3.0.0,>=2.0.0->gliclass) (2.21.5)\n",
      "Requirement already satisfied: nvidia-nvtx-cu12==12.4.127 in /usr/local/lib/python3.11/dist-packages (from torch<3.0.0,>=2.0.0->gliclass) (12.4.127)\n",
      "Requirement already satisfied: nvidia-nvjitlink-cu12==12.4.127 in /usr/local/lib/python3.11/dist-packages (from torch<3.0.0,>=2.0.0->gliclass) (12.4.127)\n",
      "Requirement already satisfied: triton==3.2.0 in /usr/local/lib/python3.11/dist-packages (from torch<3.0.0,>=2.0.0->gliclass) (3.2.0)\n",
      "Requirement already satisfied: sympy==1.13.1 in /usr/local/lib/python3.11/dist-packages (from torch<3.0.0,>=2.0.0->gliclass) (1.13.1)\n",
      "Requirement already satisfied: mpmath<1.4,>=1.1.0 in /usr/local/lib/python3.11/dist-packages (from sympy==1.13.1->torch<3.0.0,>=2.0.0->gliclass) (1.3.0)\n",
      "Requirement already satisfied: huggingface-hub<1.0,>=0.24.0 in /usr/local/lib/python3.11/dist-packages (from transformers<=4.48.2,>=4.37.2->gliclass) (0.34.1)\n",
      "Requirement already satisfied: packaging>=20.0 in /usr/local/lib/python3.11/dist-packages (from transformers<=4.48.2,>=4.37.2->gliclass) (25.0)\n",
      "Requirement already satisfied: pyyaml>=5.1 in /usr/local/lib/python3.11/dist-packages (from transformers<=4.48.2,>=4.37.2->gliclass) (6.0.2)\n",
      "Requirement already satisfied: regex!=2019.12.17 in /usr/local/lib/python3.11/dist-packages (from transformers<=4.48.2,>=4.37.2->gliclass) (2024.11.6)\n",
      "Requirement already satisfied: requests in /usr/local/lib/python3.11/dist-packages (from transformers<=4.48.2,>=4.37.2->gliclass) (2.32.3)\n",
      "Requirement already satisfied: tokenizers<0.22,>=0.21 in /usr/local/lib/python3.11/dist-packages (from transformers<=4.48.2,>=4.37.2->gliclass) (0.21.2)\n",
      "Requirement already satisfied: safetensors>=0.4.1 in /usr/local/lib/python3.11/dist-packages (from transformers<=4.48.2,>=4.37.2->gliclass) (0.5.3)\n",
      "Requirement already satisfied: tqdm>=4.27 in /usr/local/lib/python3.11/dist-packages (from transformers<=4.48.2,>=4.37.2->gliclass) (4.67.1)\n",
      "Requirement already satisfied: hf-xet<2.0.0,>=1.1.3 in /usr/local/lib/python3.11/dist-packages (from huggingface-hub<1.0,>=0.24.0->transformers<=4.48.2,>=4.37.2->gliclass) (1.1.5)\n",
      "Requirement already satisfied: MarkupSafe>=2.0 in /usr/local/lib/python3.11/dist-packages (from jinja2->torch<3.0.0,>=2.0.0->gliclass) (3.0.2)\n",
      "Requirement already satisfied: charset-normalizer<4,>=2 in /usr/local/lib/python3.11/dist-packages (from requests->transformers<=4.48.2,>=4.37.2->gliclass) (3.4.2)\n",
      "Requirement already satisfied: idna<4,>=2.5 in /usr/local/lib/python3.11/dist-packages (from requests->transformers<=4.48.2,>=4.37.2->gliclass) (3.10)\n",
      "Requirement already satisfied: urllib3<3,>=1.21.1 in /usr/local/lib/python3.11/dist-packages (from requests->transformers<=4.48.2,>=4.37.2->gliclass) (2.5.0)\n",
      "Requirement already satisfied: certifi>=2017.4.17 in /usr/local/lib/python3.11/dist-packages (from requests->transformers<=4.48.2,>=4.37.2->gliclass) (2025.7.14)\n",
      "Downloading gliclass-0.1.11-py3-none-any.whl (32 kB)\n",
      "Downloading numpy-1.26.4-cp311-cp311-manylinux_2_17_x86_64.manylinux2014_x86_64.whl (18.3 MB)\n",
      "\u001b[2K   \u001b[90m━━━━━━━━━━━━━━━━━━━━━━━━━━━━━━━━━━━━━━━━\u001b[0m \u001b[32m18.3/18.3 MB\u001b[0m \u001b[31m58.7 MB/s\u001b[0m eta \u001b[36m0:00:00\u001b[0m\n",
      "\u001b[?25hDownloading transformers-4.48.2-py3-none-any.whl (9.7 MB)\n",
      "\u001b[2K   \u001b[90m━━━━━━━━━━━━━━━━━━━━━━━━━━━━━━━━━━━━━━━━\u001b[0m \u001b[32m9.7/9.7 MB\u001b[0m \u001b[31m79.2 MB/s\u001b[0m eta \u001b[36m0:00:00\u001b[0m\n",
      "\u001b[?25hInstalling collected packages: numpy, transformers, gliclass\n",
      "  Attempting uninstall: numpy\n",
      "    Found existing installation: numpy 2.0.2\n",
      "    Uninstalling numpy-2.0.2:\n",
      "      Successfully uninstalled numpy-2.0.2\n",
      "  Attempting uninstall: transformers\n",
      "    Found existing installation: transformers 4.54.1\n",
      "    Uninstalling transformers-4.54.1:\n",
      "      Successfully uninstalled transformers-4.54.1\n",
      "\u001b[31mERROR: pip's dependency resolver does not currently take into account all the packages that are installed. This behaviour is the source of the following dependency conflicts.\n",
      "opencv-python 4.12.0.88 requires numpy<2.3.0,>=2; python_version >= \"3.9\", but you have numpy 1.26.4 which is incompatible.\n",
      "opencv-python-headless 4.12.0.88 requires numpy<2.3.0,>=2; python_version >= \"3.9\", but you have numpy 1.26.4 which is incompatible.\n",
      "opencv-contrib-python 4.12.0.88 requires numpy<2.3.0,>=2; python_version >= \"3.9\", but you have numpy 1.26.4 which is incompatible.\n",
      "thinc 8.3.6 requires numpy<3.0.0,>=2.0.0, but you have numpy 1.26.4 which is incompatible.\u001b[0m\u001b[31m\n",
      "\u001b[0mSuccessfully installed gliclass-0.1.11 numpy-1.26.4 transformers-4.48.2\n"
     ]
    },
    {
     "data": {
      "application/vnd.colab-display-data+json": {
       "id": "781ea2b89c5d40b1922cfca822e11831",
       "pip_warning": {
        "packages": [
         "numpy"
        ]
       }
      }
     },
     "metadata": {},
     "output_type": "display_data"
    }
   ],
   "source": [
    "# dans une cellule Colab\n",
    "!pip install --upgrade \"transformers>=4.48.0\"\n",
    "!pip install gliclass"
   ]
  },
  {
   "cell_type": "code",
   "execution_count": 12,
   "metadata": {
    "id": "0MoYAQ6UugGk"
   },
   "outputs": [],
   "source": [
    "# ---------- 1. Chargement & mapping ----------\n",
    "import pandas as pd\n",
    "\n",
    "df = pd.read_csv(\n",
    "    'Content Taxonomy 3.1.tsv',\n",
    "    sep='\\t',\n",
    "    skiprows=3,\n",
    "    engine='python'\n",
    ")\n",
    "df.columns = ['Unique ID', 'Parent', 'Name', 'Tier 1', 'Tier 2', 'Tier 3', 'Tier 4', 'Extension']\n",
    "\n",
    "df['label_text'] = (\n",
    "    df[['Tier 1', 'Tier 2', 'Tier 3', 'Tier 4']]\n",
    "    .fillna('')\n",
    "    .agg(' '.join, axis=1)\n",
    "    .str.strip()\n",
    "    .str.replace(r'\\s+', ' ', regex=True)\n",
    ")\n",
    "\n",
    "# on garde l'ID d'origine (chaîne)\n",
    "id2label = {str(r['Unique ID']).strip(): r['label_text']\n",
    "            for _, r in df.iterrows()\n",
    "            if pd.notna(r['Unique ID']) and str(r['Unique ID']).strip()}\n",
    "label2id = {v: k for k, v in id2label.items()}\n",
    "\n",
    "# ---------- 2. Hiérarchie ----------\n",
    "tier1_mask   = df['Tier 2'].isna()\n",
    "tier1_labels = df.loc[tier1_mask, 'label_text'].tolist()\n",
    "tier1_ids    = df.loc[tier1_mask, 'Unique ID'].astype(str).tolist()\n",
    "tier1_map    = dict(zip(tier1_labels, tier1_ids))\n",
    "\n",
    "# index rapide : label → descendants\n",
    "from collections import defaultdict\n",
    "descendants = defaultdict(list)\n",
    "for _, r in df.iterrows():\n",
    "    parent_lbl = r['Tier 1']\n",
    "    if pd.notna(parent_lbl):\n",
    "        descendants[parent_lbl].append(r['label_text'])"
   ]
  },
  {
   "cell_type": "code",
   "execution_count": 21,
   "metadata": {
    "id": "49IefWliwvlE"
   },
   "outputs": [],
   "source": [
    "with open('/content/article2.txt', 'r', encoding='utf-8') as f:\n",
    "    text = f.read()"
   ]
  },
  {
   "cell_type": "code",
   "execution_count": 22,
   "metadata": {
    "colab": {
     "base_uri": "https://localhost:8080/"
    },
    "id": "gugo8H_czUoQ",
    "outputId": "318f4430-5508-4a33-8bd4-a45ce9af5525"
   },
   "outputs": [
    {
     "name": "stderr",
     "output_type": "stream",
     "text": [
      "100%|██████████| 1/1 [00:09<00:00,  9.97s/it]\n",
      "100%|██████████| 1/1 [00:05<00:00,  5.40s/it]\n",
      "Some weights of the model checkpoint at cardiffnlp/twitter-roberta-base-sentiment-latest were not used when initializing RobertaForSequenceClassification: ['roberta.pooler.dense.bias', 'roberta.pooler.dense.weight']\n",
      "- This IS expected if you are initializing RobertaForSequenceClassification from the checkpoint of a model trained on another task or with another architecture (e.g. initializing a BertForSequenceClassification model from a BertForPreTraining model).\n",
      "- This IS NOT expected if you are initializing RobertaForSequenceClassification from the checkpoint of a model that you expect to be exactly identical (initializing a BertForSequenceClassification model from a BertForSequenceClassification model).\n",
      "Device set to use cpu\n",
      "100%|██████████| 1/1 [00:03<00:00,  3.90s/it]\n"
     ]
    }
   ],
   "source": [
    "# ---------- 3. GLiClass hiérarchique ----------\n",
    "from gliclass import GLiClassModel, ZeroShotClassificationPipeline\n",
    "from transformers import AutoTokenizer\n",
    "import torch\n",
    "\n",
    "model_name = \"knowledgator/gliclass-modern-base-v3.0\"\n",
    "model      = GLiClassModel.from_pretrained(model_name)\n",
    "tokenizer  = AutoTokenizer.from_pretrained(model_name, add_prefix_space=True)\n",
    "\n",
    "pipe = ZeroShotClassificationPipeline(\n",
    "    model, tokenizer,\n",
    "    classification_type='multi-label',\n",
    "    device='cuda:0' if torch.cuda.is_available() else 'cpu'\n",
    ")\n",
    "\n",
    "# --- inférence 2 passes ---\n",
    "# 1. Tier 1\n",
    "tier1_res = pipe(text, tier1_labels, threshold=0.1)[0]\n",
    "best_t1   = max(tier1_res, key=lambda x: x[\"score\"])[\"label\"]\n",
    "\n",
    "# 2. Descendants du Tier 1 gagnant\n",
    "candidates = descendants[best_t1]\n",
    "if not candidates:                 # on tombe sur une feuille\n",
    "    candidates = [best_t1]\n",
    "\n",
    "final_res = pipe(text, candidates, threshold=0.3)[0]\n",
    "top5 = sorted(final_res, key=lambda x: x[\"score\"], reverse=True)[:5]\n",
    "\n",
    "# 3. Ajoute le code IAB\n",
    "for r in top5:\n",
    "    r[\"iab_code\"] = f\"IAB{label2id[r['label']]}\"\n",
    "\n",
    "\n",
    "# ---------- 4. Sentiment & content-type ----------\n",
    "from transformers import pipeline as sent_pipe, AutoTokenizer as SentTok\n",
    "\n",
    "sent_tok = SentTok.from_pretrained(\"cardiffnlp/twitter-roberta-base-sentiment-latest\")\n",
    "sent_clf = sent_pipe(\n",
    "    \"text-classification\",\n",
    "    model=\"cardiffnlp/twitter-roberta-base-sentiment-latest\",\n",
    "    tokenizer=sent_tok,\n",
    "    truncation=True,           # force le troncage\n",
    "    max_length=512,\n",
    "    device='cuda:0' if torch.cuda.is_available() else 'cpu'\n",
    ")\n",
    "\n",
    "# text tronqué pour le sentiment\n",
    "sent = sent_clf(text[:sent_tok.model_max_length-4])[0][\"label\"].lower()\n",
    "\n",
    "# Content-type\n",
    "ctypes = [\"product recommendation\", \"news article\", \"travel guide\", \"opinion\", \"review\"]\n",
    "ctype_res = pipe(text, ctypes, threshold=0.3)[0]\n",
    "content_type = max(ctype_res, key=lambda x: x[\"score\"])[\"label\"]\n"
   ]
  },
  {
   "cell_type": "code",
   "execution_count": 23,
   "metadata": {
    "colab": {
     "base_uri": "https://localhost:8080/"
    },
    "id": "Ku2-kg2v3zsW",
    "outputId": "2c2dab5d-3b8d-4c1f-a846-1325bb67686a"
   },
   "outputs": [
    {
     "name": "stdout",
     "output_type": "stream",
     "text": [
      "{\n",
      "  \"iab_categories\": [\n",
      "    \"IAB653\",\n",
      "    \"IAB670\",\n",
      "    \"IAB655\",\n",
      "    \"IAB664\"\n",
      "  ],\n",
      "  \"sentiment\": \"neutral\",\n",
      "  \"content_type\": \"opinion\"\n",
      "}\n"
     ]
    }
   ],
   "source": [
    "# ---------- 5. Affichage final ----------\n",
    "import json\n",
    "\n",
    "iab_codes = [r[\"iab_code\"] for r in top5][:4]           # max 4 codes\n",
    "result_json = {\n",
    "    \"iab_categories\": iab_codes,\n",
    "    \"sentiment\": sent,\n",
    "    \"content_type\": content_type\n",
    "}\n",
    "print(json.dumps(result_json, indent=2, ensure_ascii=False))"
   ]
  }
 ],
 "metadata": {
  "colab": {
   "provenance": []
  },
  "kernelspec": {
   "display_name": ".venv (3.12.3)",
   "language": "python",
   "name": "python3"
  },
  "language_info": {
   "name": "python",
   "version": "3.12.3"
  }
 },
 "nbformat": 4,
 "nbformat_minor": 0
}
